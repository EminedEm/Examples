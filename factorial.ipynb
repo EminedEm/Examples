{
  "nbformat": 4,
  "nbformat_minor": 0,
  "metadata": {
    "colab": {
      "name": "factorial.ipynb",
      "provenance": [],
      "authorship_tag": "ABX9TyO281aj4LYOzU6X9KR0HIeo"
    },
    "kernelspec": {
      "name": "python3",
      "display_name": "Python 3"
    },
    "language_info": {
      "name": "python"
    }
  },
  "cells": [
    {
      "cell_type": "code",
      "metadata": {
        "id": "MCPF72rAEH_M"
      },
      "source": [
        "def factorial(x):\n",
        "  if x == 1 or x ==0:\n",
        "    return 1\n",
        "  elif x < 0:\n",
        "    a = \"You can't enter negative numbers\"\n",
        "    return a\n",
        "  return x * factorial(x - 1) \n",
        "  #In the recursive program, the solution to the base case is provided and the solution of the bigger problem is expressed in terms of smaller problems. "
      ],
      "execution_count": 46,
      "outputs": []
    },
    {
      "cell_type": "code",
      "metadata": {
        "colab": {
          "base_uri": "https://localhost:8080/"
        },
        "id": "Q6JhWOfyEXcK",
        "outputId": "86816d73-9487-45aa-c7ec-5ae215aafa8c"
      },
      "source": [
        "factorial(2)"
      ],
      "execution_count": 47,
      "outputs": [
        {
          "output_type": "execute_result",
          "data": {
            "text/plain": [
              "2"
            ]
          },
          "metadata": {
            "tags": []
          },
          "execution_count": 47
        }
      ]
    },
    {
      "cell_type": "code",
      "metadata": {
        "colab": {
          "base_uri": "https://localhost:8080/"
        },
        "id": "bzMtBqnhEa91",
        "outputId": "f8c0bd02-7a93-4c0d-9f1b-4ad3581f86a2"
      },
      "source": [
        "factorial(5)"
      ],
      "execution_count": 48,
      "outputs": [
        {
          "output_type": "execute_result",
          "data": {
            "text/plain": [
              "120"
            ]
          },
          "metadata": {
            "tags": []
          },
          "execution_count": 48
        }
      ]
    },
    {
      "cell_type": "code",
      "metadata": {
        "colab": {
          "base_uri": "https://localhost:8080/",
          "height": 35
        },
        "id": "lsoPxm1hEc4V",
        "outputId": "89f9a6ad-0daf-4028-d6a8-b62441f61a54"
      },
      "source": [
        "factorial(-1)"
      ],
      "execution_count": 49,
      "outputs": [
        {
          "output_type": "execute_result",
          "data": {
            "application/vnd.google.colaboratory.intrinsic+json": {
              "type": "string"
            },
            "text/plain": [
              "\"You can't enter negative numbers\""
            ]
          },
          "metadata": {
            "tags": []
          },
          "execution_count": 49
        }
      ]
    },
    {
      "cell_type": "code",
      "metadata": {
        "colab": {
          "base_uri": "https://localhost:8080/"
        },
        "id": "1OnbqgHBEfd8",
        "outputId": "52129c5a-31b6-4d3c-e529-8c860d773ba1"
      },
      "source": [
        "factorial(0)"
      ],
      "execution_count": 50,
      "outputs": [
        {
          "output_type": "execute_result",
          "data": {
            "text/plain": [
              "1"
            ]
          },
          "metadata": {
            "tags": []
          },
          "execution_count": 50
        }
      ]
    },
    {
      "cell_type": "code",
      "metadata": {
        "colab": {
          "base_uri": "https://localhost:8080/"
        },
        "id": "_m6mNlmUEim2",
        "outputId": "a234db47-dffd-449f-eef2-4ef343e5bfde"
      },
      "source": [
        "factorial(1)"
      ],
      "execution_count": 51,
      "outputs": [
        {
          "output_type": "execute_result",
          "data": {
            "text/plain": [
              "1"
            ]
          },
          "metadata": {
            "tags": []
          },
          "execution_count": 51
        }
      ]
    },
    {
      "cell_type": "code",
      "metadata": {
        "id": "PZ-iPqluGYHv"
      },
      "source": [
        ""
      ],
      "execution_count": null,
      "outputs": []
    }
  ]
}